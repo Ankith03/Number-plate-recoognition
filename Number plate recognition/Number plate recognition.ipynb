{
 "cells": [
  {
   "cell_type": "code",
   "execution_count": 1,
   "id": "e2d92262",
   "metadata": {},
   "outputs": [],
   "source": [
    "import cv2\n",
    "import pytesseract\n",
    "import numpy as np"
   ]
  },
  {
   "cell_type": "code",
   "execution_count": 2,
   "id": "8a79f409",
   "metadata": {},
   "outputs": [],
   "source": [
    "pytesseract.pytesseract.tesseract_cmd='C:\\Program Files\\Tesseract-OCR\\tesseract.exe'"
   ]
  },
  {
   "cell_type": "code",
   "execution_count": 3,
   "id": "872d58a3",
   "metadata": {},
   "outputs": [],
   "source": [
    "cascade=cv2.CascadeClassifier(\"haarcascade_russian_plate_number.xml\")"
   ]
  },
  {
   "cell_type": "code",
   "execution_count": 4,
   "id": "8a216f2b",
   "metadata": {},
   "outputs": [],
   "source": [
    "states={\"AN\":\"Andaman and Nicobar\",\"AP\":\"Andhra Pradesh\",\"AR\":\"\tArunachal Pradesh\",\"AS\":\"Assam\",\"BR\":\"Bihar\",\"CH\":\"\tChandigarh\",\"DN\":\"Dadra and Nagar Haveli\",\"DD\":\"Daman and Diu\",\"DL\":\"Delhi\",\"GA\":\"Goa\",\"GJ\":\"Gujarat\",\"HR\":\"Haryana\",\"HP\":\"Himachal Pradesh\",\"JK\":\"Jammu and Kashmir\",\"KA\":\"Karnataka\",\"KL\":\"Kerala\",\"LD\":\"\tLakshadweep\",\"MP\":\"Madhya Pradesh\",\"MH\":\"Maharashtra\",\"MN\":\"Manipur\",\"ML\":\"Meghalaya\",\"MZ\":\"Mizoram\",\"NL\":\"Nagaland\",\"OR\":\"Orissa\",\"PY\":\"Pondicherry\",\"PN\":\"Punjab\",\"RJ\":\"Rajasthan\",\"SK\":\"Sikkim\",\"TN\":\"TamilNadu\",\"TR\":\"Tripura\",\"UP\":\"Uttar Pradesh\",\"WB\":\"West Bengal\"}"
   ]
  },
  {
   "cell_type": "code",
   "execution_count": 5,
   "id": "6bfe9c42",
   "metadata": {},
   "outputs": [],
   "source": [
    "def extract_num(img_name):\n",
    "    global read\n",
    "    img=cv2.imread(img_name)\n",
    "    gray=cv2.cvtColor(img,cv2.COLOR_BGR2GRAY)\n",
    "    nplate=cascade.detectMultiScale(gray,1.1,4)\n",
    "    for(x,y,w,h) in nplate:\n",
    "        a,b=(int(0.02*img.shape[0]),int(0.025*img.shape[1]))\n",
    "        plate=img[y+a:y+h-a,x+b:x+w-b,:]\n",
    "        kernel=np.ones((1,1),np.uint8)\n",
    "        plate=cv2.dilate(plate,kernel,iterations=1)\n",
    "        plate=cv2.erode(plate,kernel,iterations=1)\n",
    "        plate_gray=cv2.cvtColor(plate,cv2.COLOR_BGR2GRAY)\n",
    "        (thresh,plate)=cv2.threshold(plate_gray,127,255,cv2.THRESH_BINARY)\n",
    "        read=pytesseract.image_to_string(plate)\n",
    "        read=''.join(e for e in read if e.isalnum())\n",
    "        stat=read[0:2]\n",
    "        try:\n",
    "            print(states[stat])\n",
    "        except:\n",
    "            print(\"Not Recognised\")\n",
    "        print(read)\n",
    "        cv2.rectangle(img,(x,y),(x+w,y+h),(51,51,255),2)\n",
    "        cv2.rectangle(img,(x,y-40),(x+w,y),(51,51,255),-1)\n",
    "        cv2.putText(img,read,(x,y-10),cv2.FONT_HERSHEY_PLAIN,fontScale=3,color=(0,255,0),thickness=3)\n",
    "        cv.imshow('Plate',plate)\n",
    "    cv2.imshow(\"Result\",img)\n",
    "    cv2.imwrite('result.jpg',img)\n",
    "    cv2.waitKey(0)\n",
    "    cv2.destroyAllWindows()\n",
    "    "
   ]
  },
  {
   "cell_type": "code",
   "execution_count": null,
   "id": "76acf055",
   "metadata": {},
   "outputs": [],
   "source": [
    "extract_num('C:/Users/Admin/Desktop/Number plate recognition/images.jfif')"
   ]
  }
 ],
 "metadata": {
  "kernelspec": {
   "display_name": "Python 3 (ipykernel)",
   "language": "python",
   "name": "python3"
  },
  "language_info": {
   "codemirror_mode": {
    "name": "ipython",
    "version": 3
   },
   "file_extension": ".py",
   "mimetype": "text/x-python",
   "name": "python",
   "nbconvert_exporter": "python",
   "pygments_lexer": "ipython3",
   "version": "3.9.12"
  }
 },
 "nbformat": 4,
 "nbformat_minor": 5
}
